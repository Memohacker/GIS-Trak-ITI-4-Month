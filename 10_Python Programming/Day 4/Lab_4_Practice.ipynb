{
  "nbformat": 4,
  "nbformat_minor": 0,
  "metadata": {
    "colab": {
      "provenance": []
    },
    "kernelspec": {
      "name": "python3",
      "display_name": "Python 3"
    },
    "language_info": {
      "name": "python"
    }
  },
  "cells": [
    {
      "cell_type": "markdown",
      "source": [
        "# Lab 4"
      ],
      "metadata": {
        "id": "lb_uTUnxwSqX"
      }
    },
    {
      "cell_type": "code",
      "execution_count": null,
      "metadata": {
        "id": "wC0blilawKrI"
      },
      "outputs": [],
      "source": [
        "class emp:\n",
        "  def __init__(self, name, id,age,salary):\n",
        "    self.name = name\n",
        "    self.id = id\n",
        "    self.age =age\n",
        "    self.salary =salary\n",
        "  def display(self):\n",
        "    print(self.name, self.id,self.salary)\n",
        "# setter\n",
        "  def change_salary(self,new_salary):\n",
        "    self.salary=new_salary\n",
        "  def change_age(self,new_age):\n",
        "    self.age=new_age\n",
        "  def change_name(self,new_name):\n",
        "    self.name=new_name\n",
        "  def change_id(self,new_id):\n",
        "    self.id=new_id\n",
        "  # getter\n",
        "  def get_age(self):\n",
        "    return self.age\n",
        "  def get_salary(self):\n",
        "    return self.salary\n",
        "  def get_name(self):\n",
        "    return self.name\n",
        "  def get_id(self):\n",
        "    return self.id\n",
        "\n",
        "  def private_method(self) -> None: #-- private_method\n",
        "    print(\"This is a private method\")\n",
        "\n",
        "  def calc_salary_year(self) -> int:\n",
        "    return self.salary * 12"
      ]
    },
    {
      "cell_type": "code",
      "source": [
        "employee1=emp(\"ahmed\",123,10,1000)\n",
        "employee1.display()"
      ],
      "metadata": {
        "colab": {
          "base_uri": "https://localhost:8080/"
        },
        "id": "maeix5JiwXmo",
        "outputId": "4efec42d-1da4-4ad5-8829-2d67189f046e"
      },
      "execution_count": null,
      "outputs": [
        {
          "output_type": "stream",
          "name": "stdout",
          "text": [
            "ahmed 123 1000\n"
          ]
        }
      ]
    },
    {
      "cell_type": "code",
      "source": [
        "employee1.change_salary(8000)\n",
        "employee1.display()"
      ],
      "metadata": {
        "colab": {
          "base_uri": "https://localhost:8080/"
        },
        "id": "SkVxv_dkwcgV",
        "outputId": "72b98e11-b68e-48ce-d526-1cd57eb52383"
      },
      "execution_count": null,
      "outputs": [
        {
          "output_type": "stream",
          "name": "stdout",
          "text": [
            "ahmed 123 8000\n"
          ]
        }
      ]
    },
    {
      "cell_type": "code",
      "source": [
        "employee1.change_age(25)\n",
        "employee1.display()"
      ],
      "metadata": {
        "colab": {
          "base_uri": "https://localhost:8080/"
        },
        "id": "8ldp2TPRwefl",
        "outputId": "c4304788-c8eb-4265-9c19-9ca7ca5ee638"
      },
      "execution_count": null,
      "outputs": [
        {
          "output_type": "stream",
          "name": "stdout",
          "text": [
            "ahmed 123 8000\n"
          ]
        }
      ]
    },
    {
      "cell_type": "code",
      "source": [
        "employee1.change_name(\"mohamed\")\n",
        "employee1.display()"
      ],
      "metadata": {
        "colab": {
          "base_uri": "https://localhost:8080/"
        },
        "id": "0OzMey7Xwgc8",
        "outputId": "b49c101c-a6b2-4b16-d77a-b74367471ecc"
      },
      "execution_count": null,
      "outputs": [
        {
          "output_type": "stream",
          "name": "stdout",
          "text": [
            "mohamed 123 8000\n"
          ]
        }
      ]
    },
    {
      "cell_type": "code",
      "source": [
        "employee1.change_name(\"mohamed\")\n",
        "employee1.display()"
      ],
      "metadata": {
        "colab": {
          "base_uri": "https://localhost:8080/"
        },
        "id": "LcMNoMl5-Xmo",
        "outputId": "a201345d-987a-4193-b3e9-f00b719649a0"
      },
      "execution_count": null,
      "outputs": [
        {
          "output_type": "stream",
          "name": "stdout",
          "text": [
            "mohamed 123 8000\n"
          ]
        }
      ]
    },
    {
      "cell_type": "code",
      "source": [
        "employee1.change_id(456)\n",
        "employee1.display()"
      ],
      "metadata": {
        "colab": {
          "base_uri": "https://localhost:8080/"
        },
        "id": "Vp4VeN4Q-aLY",
        "outputId": "c1cee104-d777-4993-8a68-3c1edd622e41"
      },
      "execution_count": null,
      "outputs": [
        {
          "output_type": "stream",
          "name": "stdout",
          "text": [
            "mohamed 456 8000\n"
          ]
        }
      ]
    },
    {
      "cell_type": "code",
      "source": [
        "emp_list=[]\n",
        "emp_list.append(emp(\"ahmed\",123,12,10000))\n",
        "emp_list.append(emp(\"mohamed\",456,55,3333333))\n",
        "emp_list.append(emp(\"ali\",789,555,145151))"
      ],
      "metadata": {
        "id": "dQxVpj-1-ds1"
      },
      "execution_count": null,
      "outputs": []
    },
    {
      "cell_type": "code",
      "source": [
        "for emp in emp_list:\n",
        "  emp.display()"
      ],
      "metadata": {
        "colab": {
          "base_uri": "https://localhost:8080/"
        },
        "id": "OnZxODZp_t0p",
        "outputId": "45aaf193-4493-4818-bcff-ac8023e3058c"
      },
      "execution_count": null,
      "outputs": [
        {
          "output_type": "stream",
          "name": "stdout",
          "text": [
            "ahmed 123 10000\n",
            "mohamed 456 3333333\n",
            "ali 789 145151\n"
          ]
        }
      ]
    },
    {
      "cell_type": "code",
      "source": [
        "total_salary=0\n",
        "for emp in emp_list:\n",
        "  total_salary+=emp.get_salary()\n",
        "print(total_salary)"
      ],
      "metadata": {
        "colab": {
          "base_uri": "https://localhost:8080/"
        },
        "id": "zq_kAOxFAj5_",
        "outputId": "a2238b3e-1b3e-4ba1-d161-b6ac0ccfe33c"
      },
      "execution_count": null,
      "outputs": [
        {
          "output_type": "stream",
          "name": "stdout",
          "text": [
            "3488484\n"
          ]
        }
      ]
    },
    {
      "cell_type": "markdown",
      "source": [
        "# Inhertance"
      ],
      "metadata": {
        "id": "JhMEVc_eMgXJ"
      }
    },
    {
      "cell_type": "code",
      "metadata": {
        "id": "8c043be7"
      },
      "source": [
        "class Tech_empe(emp):\n",
        "  def __init__(self, name, id, age, salary, tech_stack):\n",
        "    super().__init__(name, id, age, salary)\n",
        "    self.tech_stack = tech_stack\n",
        "    def calc_salary_year(self) -> int:\n",
        "      return self.salary * 12 * 2"
      ],
      "execution_count": null,
      "outputs": []
    },
    {
      "cell_type": "code",
      "metadata": {
        "colab": {
          "base_uri": "https://localhost:8080/"
        },
        "id": "e38058c3",
        "outputId": "6785fd19-714e-4d4f-c30b-9a3240cf4d75"
      },
      "source": [
        "\n",
        "# Instantiate Tech_emp\n",
        "tech_employee = Tech_empe(\"Jane Doe\", 987, 30, 70000, \"Python\")\n",
        "tech_employee.display()"
      ],
      "execution_count": null,
      "outputs": [
        {
          "output_type": "stream",
          "name": "stdout",
          "text": [
            "Jane Doe 987 70000\n"
          ]
        }
      ]
    },
    {
      "cell_type": "code",
      "source": [
        "tech_employee.calc_salary_year()"
      ],
      "metadata": {
        "colab": {
          "base_uri": "https://localhost:8080/"
        },
        "id": "oj3P5unyKTzE",
        "outputId": "dc9ba54e-94c3-4b80-f973-38fe464d0a74"
      },
      "execution_count": null,
      "outputs": [
        {
          "output_type": "execute_result",
          "data": {
            "text/plain": [
              "840000"
            ]
          },
          "metadata": {},
          "execution_count": 178
        }
      ]
    },
    {
      "cell_type": "code",
      "source": [],
      "metadata": {
        "id": "9_6L4uTmKzUP"
      },
      "execution_count": null,
      "outputs": []
    }
  ]
}